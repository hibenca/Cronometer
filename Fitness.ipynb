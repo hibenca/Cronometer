{
 "cells": [
  {
   "cell_type": "markdown",
   "metadata": {},
   "source": [
    "# Crunching Chrono"
   ]
  },
  {
   "cell_type": "code",
   "execution_count": 80,
   "metadata": {},
   "outputs": [],
   "source": [
    "import pandas as pd\n",
    "import numpy as np\n",
    "from matplotlib import pyplot as plt\n",
    "crono = pd.read_csv('crono.csv')"
   ]
  },
  {
   "cell_type": "code",
   "execution_count": 81,
   "metadata": {},
   "outputs": [
    {
     "name": "stdout",
     "output_type": "stream",
     "text": [
      "0.25.1\n"
     ]
    }
   ],
   "source": [
    "#check pandas version\n",
    "print(pd.__version__)"
   ]
  },
  {
   "cell_type": "code",
   "execution_count": 82,
   "metadata": {},
   "outputs": [],
   "source": [
    "macros = crono[['Date', 'Energy (kcal)', 'Protein (g)', 'Carbs (g)', 'Fat (g)']]"
   ]
  },
  {
   "cell_type": "code",
   "execution_count": 83,
   "metadata": {},
   "outputs": [
    {
     "data": {
      "text/html": [
       "<div>\n",
       "<style scoped>\n",
       "    .dataframe tbody tr th:only-of-type {\n",
       "        vertical-align: middle;\n",
       "    }\n",
       "\n",
       "    .dataframe tbody tr th {\n",
       "        vertical-align: top;\n",
       "    }\n",
       "\n",
       "    .dataframe thead th {\n",
       "        text-align: right;\n",
       "    }\n",
       "</style>\n",
       "<table border=\"1\" class=\"dataframe\">\n",
       "  <thead>\n",
       "    <tr style=\"text-align: right;\">\n",
       "      <th></th>\n",
       "      <th>Date</th>\n",
       "      <th>Energy (kcal)</th>\n",
       "      <th>Protein (g)</th>\n",
       "      <th>Carbs (g)</th>\n",
       "      <th>Fat (g)</th>\n",
       "    </tr>\n",
       "  </thead>\n",
       "  <tbody>\n",
       "    <tr>\n",
       "      <td>59</td>\n",
       "      <td>11/2/2019</td>\n",
       "      <td>360.15</td>\n",
       "      <td>10.00</td>\n",
       "      <td>39.00</td>\n",
       "      <td>18.00</td>\n",
       "    </tr>\n",
       "    <tr>\n",
       "      <td>0</td>\n",
       "      <td>9/4/2019</td>\n",
       "      <td>519.00</td>\n",
       "      <td>39.49</td>\n",
       "      <td>77.52</td>\n",
       "      <td>4.39</td>\n",
       "    </tr>\n",
       "    <tr>\n",
       "      <td>128</td>\n",
       "      <td>1/20/2020</td>\n",
       "      <td>1017.14</td>\n",
       "      <td>57.00</td>\n",
       "      <td>0.00</td>\n",
       "      <td>86.29</td>\n",
       "    </tr>\n",
       "    <tr>\n",
       "      <td>100</td>\n",
       "      <td>12/15/2019</td>\n",
       "      <td>1512.73</td>\n",
       "      <td>133.38</td>\n",
       "      <td>183.14</td>\n",
       "      <td>27.86</td>\n",
       "    </tr>\n",
       "    <tr>\n",
       "      <td>66</td>\n",
       "      <td>11/9/2019</td>\n",
       "      <td>1780.75</td>\n",
       "      <td>189.77</td>\n",
       "      <td>144.81</td>\n",
       "      <td>43.00</td>\n",
       "    </tr>\n",
       "    <tr>\n",
       "      <td>67</td>\n",
       "      <td>11/10/2019</td>\n",
       "      <td>1815.11</td>\n",
       "      <td>191.09</td>\n",
       "      <td>150.80</td>\n",
       "      <td>43.84</td>\n",
       "    </tr>\n",
       "    <tr>\n",
       "      <td>65</td>\n",
       "      <td>11/8/2019</td>\n",
       "      <td>1815.56</td>\n",
       "      <td>189.45</td>\n",
       "      <td>149.44</td>\n",
       "      <td>45.31</td>\n",
       "    </tr>\n",
       "    <tr>\n",
       "      <td>64</td>\n",
       "      <td>11/7/2019</td>\n",
       "      <td>1821.19</td>\n",
       "      <td>187.93</td>\n",
       "      <td>151.33</td>\n",
       "      <td>44.25</td>\n",
       "    </tr>\n",
       "    <tr>\n",
       "      <td>53</td>\n",
       "      <td>10/27/2019</td>\n",
       "      <td>1874.09</td>\n",
       "      <td>189.11</td>\n",
       "      <td>175.58</td>\n",
       "      <td>43.70</td>\n",
       "    </tr>\n",
       "    <tr>\n",
       "      <td>52</td>\n",
       "      <td>10/26/2019</td>\n",
       "      <td>1876.06</td>\n",
       "      <td>188.52</td>\n",
       "      <td>175.69</td>\n",
       "      <td>44.65</td>\n",
       "    </tr>\n",
       "    <tr>\n",
       "      <td>51</td>\n",
       "      <td>10/25/2019</td>\n",
       "      <td>1882.74</td>\n",
       "      <td>190.35</td>\n",
       "      <td>173.33</td>\n",
       "      <td>43.04</td>\n",
       "    </tr>\n",
       "    <tr>\n",
       "      <td>50</td>\n",
       "      <td>10/24/2019</td>\n",
       "      <td>1886.24</td>\n",
       "      <td>190.59</td>\n",
       "      <td>174.05</td>\n",
       "      <td>43.08</td>\n",
       "    </tr>\n",
       "    <tr>\n",
       "      <td>47</td>\n",
       "      <td>10/21/2019</td>\n",
       "      <td>1891.81</td>\n",
       "      <td>189.27</td>\n",
       "      <td>172.28</td>\n",
       "      <td>42.61</td>\n",
       "    </tr>\n",
       "    <tr>\n",
       "      <td>48</td>\n",
       "      <td>10/22/2019</td>\n",
       "      <td>1893.14</td>\n",
       "      <td>188.66</td>\n",
       "      <td>174.83</td>\n",
       "      <td>42.64</td>\n",
       "    </tr>\n",
       "    <tr>\n",
       "      <td>49</td>\n",
       "      <td>10/23/2019</td>\n",
       "      <td>1905.43</td>\n",
       "      <td>189.05</td>\n",
       "      <td>175.28</td>\n",
       "      <td>44.09</td>\n",
       "    </tr>\n",
       "  </tbody>\n",
       "</table>\n",
       "</div>"
      ],
      "text/plain": [
       "           Date  Energy (kcal)  Protein (g)  Carbs (g)  Fat (g)\n",
       "59    11/2/2019         360.15        10.00      39.00    18.00\n",
       "0      9/4/2019         519.00        39.49      77.52     4.39\n",
       "128   1/20/2020        1017.14        57.00       0.00    86.29\n",
       "100  12/15/2019        1512.73       133.38     183.14    27.86\n",
       "66    11/9/2019        1780.75       189.77     144.81    43.00\n",
       "67   11/10/2019        1815.11       191.09     150.80    43.84\n",
       "65    11/8/2019        1815.56       189.45     149.44    45.31\n",
       "64    11/7/2019        1821.19       187.93     151.33    44.25\n",
       "53   10/27/2019        1874.09       189.11     175.58    43.70\n",
       "52   10/26/2019        1876.06       188.52     175.69    44.65\n",
       "51   10/25/2019        1882.74       190.35     173.33    43.04\n",
       "50   10/24/2019        1886.24       190.59     174.05    43.08\n",
       "47   10/21/2019        1891.81       189.27     172.28    42.61\n",
       "48   10/22/2019        1893.14       188.66     174.83    42.64\n",
       "49   10/23/2019        1905.43       189.05     175.28    44.09"
      ]
     },
     "execution_count": 83,
     "metadata": {},
     "output_type": "execute_result"
    }
   ],
   "source": [
    "macros.nsmallest(15, 'Energy (kcal)')"
   ]
  },
  {
   "cell_type": "code",
   "execution_count": 84,
   "metadata": {},
   "outputs": [],
   "source": [
    "cleanmacros = macros.drop([59, 0, 128, 100])"
   ]
  },
  {
   "cell_type": "code",
   "execution_count": 85,
   "metadata": {},
   "outputs": [
    {
     "data": {
      "text/plain": [
       "Date             1/10/2020\n",
       "Energy (kcal)      1780.75\n",
       "Protein (g)         129.23\n",
       "Carbs (g)            36.98\n",
       "Fat (g)              40.28\n",
       "dtype: object"
      ]
     },
     "execution_count": 85,
     "metadata": {},
     "output_type": "execute_result"
    }
   ],
   "source": [
    "cleanmacros.min()"
   ]
  },
  {
   "cell_type": "code",
   "execution_count": 112,
   "metadata": {},
   "outputs": [
    {
     "data": {
      "text/plain": [
       "Text(0, 0.5, 'kcals')"
      ]
     },
     "execution_count": 112,
     "metadata": {},
     "output_type": "execute_result"
    },
    {
     "data": {
      "image/png": "[encoded data removed]",
      "text/plain": [
       "<Figure size 432x288 with 1 Axes>"
      ]
     },
     "metadata": {
      "needs_background": "light"
     },
     "output_type": "display_data"
    }
   ],
   "source": [
    "plt.plot(cleanmacros['Date'], cleanmacros['Energy (kcal)'])\n",
    "plt.title('Calories')\n",
    "plt.xlabel('Date')\n",
    "plt.ylabel('kcals')"
   ]
  },
  {
   "cell_type": "code",
   "execution_count": 139,
   "metadata": {
    "scrolled": true
   },
   "outputs": [
    {
     "data": {
      "text/plain": [
       "Text(0, 0.5, 'Grams per day')"
      ]
     },
     "execution_count": 139,
     "metadata": {},
     "output_type": "execute_result"
    },
    {
     "data": {
      "image/png": "[encoded data removed]",
      "text/plain": [
       "<Figure size 432x288 with 1 Axes>"
      ]
     },
     "metadata": {
      "needs_background": "light"
     },
     "output_type": "display_data"
    }
   ],
   "source": [
    "plt.plot(cleanmacros['Date'], cleanmacros['Fat (g)'])\n",
    "plt.plot(cleanmacros['Date'], cleanmacros['Protein (g)'])\n",
    "plt.plot(cleanmacros['Date'], cleanmacros['Carbs (g)'])\n",
    "plt.legend(['Fat', 'Protein', 'Carbs'])\n",
    "plt.title('Macros')\n",
    "plt.xlabel('Date')\n",
    "plt.ylabel('Grams per day')"
   ]
  },
  {
   "cell_type": "code",
   "execution_count": 88,
   "metadata": {},
   "outputs": [
    {
     "data": {
      "text/plain": [
       "Date              object\n",
       "Energy (kcal)    float64\n",
       "Protein (g)      float64\n",
       "Carbs (g)        float64\n",
       "Fat (g)          float64\n",
       "dtype: object"
      ]
     },
     "execution_count": 88,
     "metadata": {},
     "output_type": "execute_result"
    }
   ],
   "source": [
    "cleanmacros.dtypes"
   ]
  },
  {
   "cell_type": "code",
   "execution_count": 89,
   "metadata": {},
   "outputs": [],
   "source": [
    "cleanmacros['Date'] = pd.to_datetime(cleanmacros.Date)"
   ]
  },
  {
   "cell_type": "code",
   "execution_count": 90,
   "metadata": {},
   "outputs": [
    {
     "data": {
      "text/plain": [
       "Date             datetime64[ns]\n",
       "Energy (kcal)           float64\n",
       "Protein (g)             float64\n",
       "Carbs (g)               float64\n",
       "Fat (g)                 float64\n",
       "dtype: object"
      ]
     },
     "execution_count": 90,
     "metadata": {},
     "output_type": "execute_result"
    }
   ],
   "source": [
    "cleanmacros.dtypes"
   ]
  },
  {
   "cell_type": "code",
   "execution_count": 91,
   "metadata": {},
   "outputs": [
    {
     "data": {
      "text/plain": [
       "1       Thursday\n",
       "2         Friday\n",
       "3       Saturday\n",
       "4         Sunday\n",
       "5         Monday\n",
       "         ...    \n",
       "127       Monday\n",
       "129      Tuesday\n",
       "130    Wednesday\n",
       "131     Thursday\n",
       "132       Friday\n",
       "Name: Date, Length: 129, dtype: object"
      ]
     },
     "execution_count": 91,
     "metadata": {},
     "output_type": "execute_result"
    }
   ],
   "source": [
    "cleanmacros.Date.dt.weekday_name"
   ]
  },
  {
   "cell_type": "code",
   "execution_count": null,
   "metadata": {},
   "outputs": [],
   "source": []
  }
 ],
 "metadata": {
  "kernelspec": {
   "display_name": "Python 3",
   "language": "python",
   "name": "python3"
  },
  "language_info": {
   "codemirror_mode": {
    "name": "ipython",
    "version": 3
   },
   "file_extension": ".py",
   "mimetype": "text/x-python",
   "name": "python",
   "nbconvert_exporter": "python",
   "pygments_lexer": "ipython3",
   "version": "3.7.4"
  }
 },
 "nbformat": 4,
 "nbformat_minor": 2
}
